{
 "cells": [
  {
   "cell_type": "markdown",
   "metadata": {},
   "source": [
    "<h1> 2. Creating a sampled dataset </h1>\n",
    "\n",
    "This notebook illustrates:\n",
    "<ol>\n",
    "<li> Sampling a BigQuery dataset to create datasets for ML\n",
    "<li> Preprocessing with Pandas\n",
    "</ol>"
   ]
  },
  {
   "cell_type": "code",
   "execution_count": 1,
   "metadata": {},
   "outputs": [],
   "source": [
    "# change these to try this notebook out\n",
    "BUCKET = 'cloud-training-demos-ml'\n",
    "PROJECT = 'cloud-training-demos'\n",
    "REGION = 'us-central1'"
   ]
  },
  {
   "cell_type": "code",
   "execution_count": 2,
   "metadata": {},
   "outputs": [],
   "source": [
    "import os\n",
    "os.environ['BUCKET'] = BUCKET\n",
    "os.environ['PROJECT'] = PROJECT\n",
    "os.environ['REGION'] = REGION"
   ]
  },
  {
   "cell_type": "code",
   "execution_count": 3,
   "metadata": {},
   "outputs": [
    {
     "name": "stderr",
     "output_type": "stream",
     "text": [
      "Creating gs://cloud-training-demos-ml/...\n",
      "ServiceException: 409 Bucket cloud-training-demos-ml already exists.\n"
     ]
    }
   ],
   "source": [
    "%%bash\n",
    "if ! gsutil ls | grep -q gs://${BUCKET}/; then\n",
    "  gsutil mb -l ${REGION} gs://${BUCKET}\n",
    "fi"
   ]
  },
  {
   "cell_type": "markdown",
   "metadata": {},
   "source": [
    "<h2> Create ML dataset by sampling using BigQuery </h2>\n",
    "<p>\n",
    "Let's sample the BigQuery data to create smaller datasets.\n",
    "</p>"
   ]
  },
  {
   "cell_type": "code",
   "execution_count": 16,
   "metadata": {},
   "outputs": [],
   "source": [
    "# Create SQL query using natality data after the year 2000\n",
    "import google.datalab.bigquery as bq\n",
    "query = \"\"\"\n",
    "SELECT\n",
    "  weight_pounds,\n",
    "  is_male,\n",
    "  mother_age,\n",
    "  plurality,\n",
    "  gestation_weeks,\n",
    "  ABS(FARM_FINGERPRINT(CONCAT(CAST(YEAR AS STRING), CAST(month AS STRING)))) AS hashmonth\n",
    "FROM\n",
    "  publicdata.samples.natality\n",
    "WHERE year > 2000\n",
    "\"\"\""
   ]
  },
  {
   "cell_type": "markdown",
   "metadata": {},
   "source": [
    "## Lab Task #1\n",
    "\n",
    "Sample the BigQuery resultset (above) so that you have approximately 12,000 training examples and 3000 evaluation examples.\n",
    "The training and evaluation datasets have to be well-distributed (not all the babies are born in Jan 2005, for example)\n",
    "and should not overlap (no baby is part of both training and evaluation datasets).\n",
    "\n",
    "Hint (highlight to see): <p style='color:white'>You will use MOD() on the hashmonth to divide the dataset into non-overlapping training and evaluation datasets, and RAND() to sample these to the desired size.</p>"
   ]
  },
  {
   "cell_type": "code",
   "execution_count": 24,
   "metadata": {},
   "outputs": [],
   "source": [
    "#check unique hashmonths and count for label\n",
    "query1 = \"\"\"\n",
    "SELECT hashmonth, COUNT(weight_pounds) AS num_babies FROM (\" + query + \") GROUP BY hashmonth\n",
    "\"\"\""
   ]
  },
  {
   "cell_type": "code",
   "execution_count": 26,
   "metadata": {},
   "outputs": [],
   "source": [
    "df = bq.Query(\"SELECT hashmonth, COUNT(weight_pounds) AS num_babies FROM (\" + query + \") GROUP BY hashmonth\").execute().result().to_dataframe()"
   ]
  },
  {
   "cell_type": "code",
   "execution_count": null,
   "metadata": {},
   "outputs": [],
   "source": []
  },
  {
   "cell_type": "code",
   "execution_count": 28,
   "metadata": {},
   "outputs": [
    {
     "name": "stdout",
     "output_type": "stream",
     "text": [
      " 96 unique ids - HASMONTHS\n"
     ]
    },
    {
     "data": {
      "text/html": [
       "<div>\n",
       "<style scoped>\n",
       "    .dataframe tbody tr th:only-of-type {\n",
       "        vertical-align: middle;\n",
       "    }\n",
       "\n",
       "    .dataframe tbody tr th {\n",
       "        vertical-align: top;\n",
       "    }\n",
       "\n",
       "    .dataframe thead th {\n",
       "        text-align: right;\n",
       "    }\n",
       "</style>\n",
       "<table border=\"1\" class=\"dataframe\">\n",
       "  <thead>\n",
       "    <tr style=\"text-align: right;\">\n",
       "      <th></th>\n",
       "      <th>hashmonth</th>\n",
       "      <th>num_babies</th>\n",
       "    </tr>\n",
       "  </thead>\n",
       "  <tbody>\n",
       "    <tr>\n",
       "      <th>0</th>\n",
       "      <td>2126480030009879160</td>\n",
       "      <td>344357</td>\n",
       "    </tr>\n",
       "    <tr>\n",
       "      <th>1</th>\n",
       "      <td>8904940584331855459</td>\n",
       "      <td>344191</td>\n",
       "    </tr>\n",
       "    <tr>\n",
       "      <th>2</th>\n",
       "      <td>6691862025345277042</td>\n",
       "      <td>338820</td>\n",
       "    </tr>\n",
       "    <tr>\n",
       "      <th>3</th>\n",
       "      <td>5934265245228309013</td>\n",
       "      <td>324598</td>\n",
       "    </tr>\n",
       "    <tr>\n",
       "      <th>4</th>\n",
       "      <td>1005902328334352553</td>\n",
       "      <td>337637</td>\n",
       "    </tr>\n",
       "  </tbody>\n",
       "</table>\n",
       "</div>"
      ],
      "text/plain": [
       "             hashmonth  num_babies\n",
       "0  2126480030009879160      344357\n",
       "1  8904940584331855459      344191\n",
       "2  6691862025345277042      338820\n",
       "3  5934265245228309013      324598\n",
       "4  1005902328334352553      337637"
      ]
     },
     "execution_count": 28,
     "metadata": {},
     "output_type": "execute_result"
    }
   ],
   "source": [
    "\n",
    "print(\" {} unique ids - HASMONTHS\".format(df.shape[0]))\n",
    "df.head()"
   ]
  },
  {
   "cell_type": "code",
   "execution_count": 32,
   "metadata": {},
   "outputs": [
    {
     "name": "stdout",
     "output_type": "stream",
     "text": [
      "(13302, 6)\n",
      "(3377, 6)\n"
     ]
    }
   ],
   "source": [
    "#creating defined train validation sets\n",
    "df_train_query = \"select * from (\" + query + \") where MOD(hashmonth,4)<3 AND RAND() < 0.0005\" \n",
    "df_eval_query = \"select * from (\" + query + \") where MOD(hashmonth,4)=3 AND RAND() < 0.0005\" \n",
    "df_train = bq.Query(df_train_query).execute().result().to_dataframe()\n",
    "df_eval = bq.Query(df_eval_query).execute().result().to_dataframe()\n",
    "print(df_train.shape)\n",
    "print(df_eval.shape)"
   ]
  },
  {
   "cell_type": "code",
   "execution_count": 34,
   "metadata": {},
   "outputs": [
    {
     "name": "stdout",
     "output_type": "stream",
     "text": [
      "77\n"
     ]
    }
   ],
   "source": [
    "print(df_train['hashmonth'].nunique())"
   ]
  },
  {
   "cell_type": "code",
   "execution_count": null,
   "metadata": {},
   "outputs": [],
   "source": []
  },
  {
   "cell_type": "markdown",
   "metadata": {},
   "source": [
    "## Lab Task #2\n",
    "\n",
    "Use Pandas to:\n",
    "* Clean up the data to remove rows that are missing any of the fields.\n",
    "* Simulate the lack of ultrasound.\n",
    "* Change the plurality column to be a string.\n",
    "\n",
    "Hint (highlight to see): <p>\n",
    "Filtering:\n",
    "<pre style='color:white'>\n",
    "df = df[df.weight_pounds > 0]\n",
    "</pre>\n",
    "Lack of ultrasound:\n",
    "<pre style='color:white'>\n",
    "nous = df.copy(deep=True)\n",
    "nous['is_male'] = 'Unknown'\n",
    "</pre>\n",
    "Modify plurality to be a string:\n",
    "<pre style='color:white'>\n",
    "twins_etc = dict(zip([1,2,3,4,5],\n",
    "                   ['Single(1)', 'Twins(2)', 'Triplets(3)', 'Quadruplets(4)', 'Quintuplets(5)']))\n",
    "df['plurality'].replace(twins_etc, inplace=True)\n",
    "</pre>\n",
    "</p>"
   ]
  },
  {
   "cell_type": "code",
   "execution_count": 35,
   "metadata": {},
   "outputs": [
    {
     "data": {
      "text/html": [
       "<div>\n",
       "<style scoped>\n",
       "    .dataframe tbody tr th:only-of-type {\n",
       "        vertical-align: middle;\n",
       "    }\n",
       "\n",
       "    .dataframe tbody tr th {\n",
       "        vertical-align: top;\n",
       "    }\n",
       "\n",
       "    .dataframe thead th {\n",
       "        text-align: right;\n",
       "    }\n",
       "</style>\n",
       "<table border=\"1\" class=\"dataframe\">\n",
       "  <thead>\n",
       "    <tr style=\"text-align: right;\">\n",
       "      <th></th>\n",
       "      <th>weight_pounds</th>\n",
       "      <th>mother_age</th>\n",
       "      <th>plurality</th>\n",
       "      <th>gestation_weeks</th>\n",
       "      <th>hashmonth</th>\n",
       "    </tr>\n",
       "  </thead>\n",
       "  <tbody>\n",
       "    <tr>\n",
       "      <th>count</th>\n",
       "      <td>13288.000000</td>\n",
       "      <td>13302.000000</td>\n",
       "      <td>13302.000000</td>\n",
       "      <td>13230.000000</td>\n",
       "      <td>1.330200e+04</td>\n",
       "    </tr>\n",
       "    <tr>\n",
       "      <th>mean</th>\n",
       "      <td>7.229092</td>\n",
       "      <td>27.367163</td>\n",
       "      <td>1.036461</td>\n",
       "      <td>38.571051</td>\n",
       "      <td>4.414409e+18</td>\n",
       "    </tr>\n",
       "    <tr>\n",
       "      <th>std</th>\n",
       "      <td>1.327275</td>\n",
       "      <td>6.207734</td>\n",
       "      <td>0.197213</td>\n",
       "      <td>2.609007</td>\n",
       "      <td>2.805700e+18</td>\n",
       "    </tr>\n",
       "    <tr>\n",
       "      <th>min</th>\n",
       "      <td>0.500449</td>\n",
       "      <td>12.000000</td>\n",
       "      <td>1.000000</td>\n",
       "      <td>18.000000</td>\n",
       "      <td>1.244589e+17</td>\n",
       "    </tr>\n",
       "    <tr>\n",
       "      <th>25%</th>\n",
       "      <td>6.563162</td>\n",
       "      <td>22.000000</td>\n",
       "      <td>1.000000</td>\n",
       "      <td>38.000000</td>\n",
       "      <td>1.622638e+18</td>\n",
       "    </tr>\n",
       "    <tr>\n",
       "      <th>50%</th>\n",
       "      <td>7.312733</td>\n",
       "      <td>27.000000</td>\n",
       "      <td>1.000000</td>\n",
       "      <td>39.000000</td>\n",
       "      <td>4.329667e+18</td>\n",
       "    </tr>\n",
       "    <tr>\n",
       "      <th>75%</th>\n",
       "      <td>8.062305</td>\n",
       "      <td>32.000000</td>\n",
       "      <td>1.000000</td>\n",
       "      <td>40.000000</td>\n",
       "      <td>7.108882e+18</td>\n",
       "    </tr>\n",
       "    <tr>\n",
       "      <th>max</th>\n",
       "      <td>12.963181</td>\n",
       "      <td>49.000000</td>\n",
       "      <td>4.000000</td>\n",
       "      <td>47.000000</td>\n",
       "      <td>9.183606e+18</td>\n",
       "    </tr>\n",
       "  </tbody>\n",
       "</table>\n",
       "</div>"
      ],
      "text/plain": [
       "       weight_pounds    mother_age     plurality  gestation_weeks  \\\n",
       "count   13288.000000  13302.000000  13302.000000     13230.000000   \n",
       "mean        7.229092     27.367163      1.036461        38.571051   \n",
       "std         1.327275      6.207734      0.197213         2.609007   \n",
       "min         0.500449     12.000000      1.000000        18.000000   \n",
       "25%         6.563162     22.000000      1.000000        38.000000   \n",
       "50%         7.312733     27.000000      1.000000        39.000000   \n",
       "75%         8.062305     32.000000      1.000000        40.000000   \n",
       "max        12.963181     49.000000      4.000000        47.000000   \n",
       "\n",
       "          hashmonth  \n",
       "count  1.330200e+04  \n",
       "mean   4.414409e+18  \n",
       "std    2.805700e+18  \n",
       "min    1.244589e+17  \n",
       "25%    1.622638e+18  \n",
       "50%    4.329667e+18  \n",
       "75%    7.108882e+18  \n",
       "max    9.183606e+18  "
      ]
     },
     "execution_count": 35,
     "metadata": {},
     "output_type": "execute_result"
    }
   ],
   "source": [
    "df_train.describe()"
   ]
  },
  {
   "cell_type": "code",
   "execution_count": 40,
   "metadata": {},
   "outputs": [],
   "source": [
    "#creating preprocessing step for common\n",
    "import pandas as pd\n",
    "def preprocess(df):\n",
    "  #filter\n",
    "  df = df[df.weight_pounds >0 ]\n",
    "  df = df[df.mother_age >0]\n",
    "  df = df[df.plurality >0]\n",
    "  df = df[df.gestation_weeks > 0]\n",
    "  \n",
    "  #plurality to categorical variable\n",
    "  twins_etc = dict(zip([1,2,3,4,5],\n",
    "                   ['Single(1)', 'Twins(2)', 'Triplets(3)', 'Quadruplets(4)', 'Quintuplets(5)']))\n",
    "  df['plurality'].replace(twins_etc, inplace=True)\n",
    "  \n",
    "  \n",
    "  #lack of ultra sound\n",
    "  no_us = df.copy(deep = True)\n",
    "  no_us.loc[no_us['plurality'] != 'Single(1)', 'plurality'] = 'Multiple(2+)'\n",
    "  no_us['is_male'] = 'Unknown'\n",
    "  \n",
    "  return pd.concat([df, no_us])\n",
    "  \n",
    "  \n",
    "  "
   ]
  },
  {
   "cell_type": "code",
   "execution_count": 42,
   "metadata": {},
   "outputs": [
    {
     "name": "stdout",
     "output_type": "stream",
     "text": [
      "(26436, 6)\n",
      "(13302, 6)\n"
     ]
    }
   ],
   "source": [
    "\n",
    "df_train_p = preprocess(df_train)\n",
    "df_eval_p = preprocess(df_eval)\n",
    "print(df_train_p.shape)\n",
    "print(df_train.shape)"
   ]
  },
  {
   "cell_type": "code",
   "execution_count": 43,
   "metadata": {},
   "outputs": [
    {
     "data": {
      "text/html": [
       "<div>\n",
       "<style scoped>\n",
       "    .dataframe tbody tr th:only-of-type {\n",
       "        vertical-align: middle;\n",
       "    }\n",
       "\n",
       "    .dataframe tbody tr th {\n",
       "        vertical-align: top;\n",
       "    }\n",
       "\n",
       "    .dataframe thead th {\n",
       "        text-align: right;\n",
       "    }\n",
       "</style>\n",
       "<table border=\"1\" class=\"dataframe\">\n",
       "  <thead>\n",
       "    <tr style=\"text-align: right;\">\n",
       "      <th></th>\n",
       "      <th>weight_pounds</th>\n",
       "      <th>mother_age</th>\n",
       "      <th>gestation_weeks</th>\n",
       "      <th>hashmonth</th>\n",
       "    </tr>\n",
       "  </thead>\n",
       "  <tbody>\n",
       "    <tr>\n",
       "      <th>count</th>\n",
       "      <td>26436.000000</td>\n",
       "      <td>26436.000000</td>\n",
       "      <td>26436.000000</td>\n",
       "      <td>2.643600e+04</td>\n",
       "    </tr>\n",
       "    <tr>\n",
       "      <th>mean</th>\n",
       "      <td>7.228751</td>\n",
       "      <td>27.366167</td>\n",
       "      <td>38.575427</td>\n",
       "      <td>4.411415e+18</td>\n",
       "    </tr>\n",
       "    <tr>\n",
       "      <th>std</th>\n",
       "      <td>1.325565</td>\n",
       "      <td>6.209359</td>\n",
       "      <td>2.596112</td>\n",
       "      <td>2.803677e+18</td>\n",
       "    </tr>\n",
       "    <tr>\n",
       "      <th>min</th>\n",
       "      <td>0.500449</td>\n",
       "      <td>12.000000</td>\n",
       "      <td>18.000000</td>\n",
       "      <td>1.244589e+17</td>\n",
       "    </tr>\n",
       "    <tr>\n",
       "      <th>25%</th>\n",
       "      <td>6.563162</td>\n",
       "      <td>22.000000</td>\n",
       "      <td>38.000000</td>\n",
       "      <td>1.622638e+18</td>\n",
       "    </tr>\n",
       "    <tr>\n",
       "      <th>50%</th>\n",
       "      <td>7.312733</td>\n",
       "      <td>27.000000</td>\n",
       "      <td>39.000000</td>\n",
       "      <td>4.329667e+18</td>\n",
       "    </tr>\n",
       "    <tr>\n",
       "      <th>75%</th>\n",
       "      <td>8.062305</td>\n",
       "      <td>32.000000</td>\n",
       "      <td>40.000000</td>\n",
       "      <td>7.108882e+18</td>\n",
       "    </tr>\n",
       "    <tr>\n",
       "      <th>max</th>\n",
       "      <td>12.963181</td>\n",
       "      <td>49.000000</td>\n",
       "      <td>47.000000</td>\n",
       "      <td>9.183606e+18</td>\n",
       "    </tr>\n",
       "  </tbody>\n",
       "</table>\n",
       "</div>"
      ],
      "text/plain": [
       "       weight_pounds    mother_age  gestation_weeks     hashmonth\n",
       "count   26436.000000  26436.000000     26436.000000  2.643600e+04\n",
       "mean        7.228751     27.366167        38.575427  4.411415e+18\n",
       "std         1.325565      6.209359         2.596112  2.803677e+18\n",
       "min         0.500449     12.000000        18.000000  1.244589e+17\n",
       "25%         6.563162     22.000000        38.000000  1.622638e+18\n",
       "50%         7.312733     27.000000        39.000000  4.329667e+18\n",
       "75%         8.062305     32.000000        40.000000  7.108882e+18\n",
       "max        12.963181     49.000000        47.000000  9.183606e+18"
      ]
     },
     "execution_count": 43,
     "metadata": {},
     "output_type": "execute_result"
    }
   ],
   "source": [
    "df_train_p.describe()"
   ]
  },
  {
   "cell_type": "code",
   "execution_count": null,
   "metadata": {},
   "outputs": [],
   "source": []
  },
  {
   "cell_type": "code",
   "execution_count": null,
   "metadata": {},
   "outputs": [],
   "source": []
  },
  {
   "cell_type": "code",
   "execution_count": null,
   "metadata": {},
   "outputs": [],
   "source": []
  },
  {
   "cell_type": "code",
   "execution_count": null,
   "metadata": {},
   "outputs": [],
   "source": []
  },
  {
   "cell_type": "markdown",
   "metadata": {},
   "source": [
    "## Lab Task #3\n",
    "\n",
    "Write the cleaned out data into CSV files.  Change the name of the Pandas dataframes (traindf, evaldf) appropriately.\n",
    "\n"
   ]
  },
  {
   "cell_type": "code",
   "execution_count": 44,
   "metadata": {},
   "outputs": [],
   "source": [
    "df_train_p.to_csv('train.csv', index=False, header=False)\n",
    "df_eval_p.to_csv('eval.csv', index=False, header=False)"
   ]
  },
  {
   "cell_type": "code",
   "execution_count": 45,
   "metadata": {},
   "outputs": [
    {
     "name": "stdout",
     "output_type": "stream",
     "text": [
      "   6680 eval.csv\n",
      "  26436 train.csv\n",
      "  33116 total\n",
      "==> eval.csv <==\n",
      "7.7272022831,False,19,Single(1),40.0,2246942437170405963\n",
      "8.4326815215,True,39,Single(1),41.0,7146494315947640619\n",
      "7.62578964258,False,32,Single(1),39.0,6244544205302024223\n",
      "7.22675294836,False,35,Single(1),40.0,8904940584331855459\n",
      "8.1019881285,True,26,Single(1),39.0,1569531340167098963\n",
      "5.84665918824,True,20,Single(1),39.0,6365946696709051755\n",
      "8.18796841068,True,29,Single(1),40.0,1088037545023002395\n",
      "7.1870697412,False,22,Single(1),41.0,1569531340167098963\n",
      "7.14738653404,False,33,Single(1),39.0,2246942437170405963\n",
      "5.8135898489399995,True,32,Single(1),37.0,6910174677251748583\n",
      "\n",
      "==> train.csv <==\n",
      "6.87401332916,True,25,Single(1),40.0,774501970389208065\n",
      "6.7130758779,True,28,Single(1),37.0,774501970389208065\n",
      "9.37626000286,False,23,Single(1),41.0,774501970389208065\n",
      "7.4406013425,True,19,Single(1),37.0,774501970389208065\n",
      "6.686620406459999,False,25,Single(1),39.0,774501970389208065\n",
      "8.1240343547,False,22,Single(1),40.0,774501970389208065\n",
      "8.93754010148,False,22,Single(1),38.0,774501970389208065\n",
      "7.81318256528,False,24,Single(1),39.0,774501970389208065\n",
      "7.81097794266,True,28,Single(1),40.0,774501970389208065\n",
      "7.50453539848,True,37,Single(1),38.0,774501970389208065\n",
      "==> eval.csv <==\n",
      "7.7492485093,Unknown,27,Single(1),39.0,6910174677251748583\n",
      "7.22895757098,Unknown,18,Single(1),39.0,6392072535155213407\n",
      "8.796444253799999,Unknown,33,Single(1),39.0,1866590652208008467\n",
      "7.3744626639,Unknown,30,Single(1),39.0,6141045177192779423\n",
      "6.99085832802,Unknown,31,Single(1),42.0,270792696282171059\n",
      "8.046872562999999,Unknown,34,Single(1),40.0,1891060869255459203\n",
      "6.4154518242,Unknown,33,Single(1),40.0,3182182455926341111\n",
      "5.6879263596,Unknown,33,Single(1),38.0,1866590652208008467\n",
      "6.87621795178,Unknown,20,Single(1),35.0,6244544205302024223\n",
      "7.9807338844,Unknown,23,Single(1),40.0,74931465496927487\n",
      "\n",
      "==> train.csv <==\n",
      "7.5618555866,Unknown,19,Single(1),39.0,6637442812569910270\n",
      "6.1244416383599996,Unknown,21,Single(1),39.0,6637442812569910270\n",
      "5.8642961692,Unknown,28,Single(1),40.0,6637442812569910270\n",
      "5.54242126668,Unknown,19,Single(1),36.0,6637442812569910270\n",
      "7.31052860792,Unknown,24,Single(1),40.0,6637442812569910270\n",
      "7.43839671988,Unknown,17,Single(1),38.0,6637442812569910270\n",
      "6.56536616236,Unknown,30,Single(1),38.0,6637442812569910270\n",
      "7.31273323054,Unknown,27,Single(1),41.0,6637442812569910270\n",
      "3.5758978896399998,Unknown,19,Single(1),34.0,6637442812569910270\n",
      "5.6658801334,Unknown,32,Multiple(2+),38.0,6637442812569910270\n"
     ]
    }
   ],
   "source": [
    "%bash\n",
    "wc -l *.csv\n",
    "head *.csv\n",
    "tail *.csv"
   ]
  },
  {
   "cell_type": "markdown",
   "metadata": {},
   "source": [
    "Copyright 2017-2018 Google Inc. Licensed under the Apache License, Version 2.0 (the \"License\"); you may not use this file except in compliance with the License. You may obtain a copy of the License at http://www.apache.org/licenses/LICENSE-2.0 Unless required by applicable law or agreed to in writing, software distributed under the License is distributed on an \"AS IS\" BASIS, WITHOUT WARRANTIES OR CONDITIONS OF ANY KIND, either express or implied. See the License for the specific language governing permissions and limitations under the License"
   ]
  }
 ],
 "metadata": {
  "kernelspec": {
   "display_name": "Python 3",
   "language": "python",
   "name": "python3"
  },
  "language_info": {
   "codemirror_mode": {
    "name": "ipython",
    "version": 3
   },
   "file_extension": ".py",
   "mimetype": "text/x-python",
   "name": "python",
   "nbconvert_exporter": "python",
   "pygments_lexer": "ipython3",
   "version": "3.5.6"
  }
 },
 "nbformat": 4,
 "nbformat_minor": 2
}
